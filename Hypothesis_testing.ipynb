{
  "cells": [
    {
      "cell_type": "markdown",
      "metadata": {
        "id": "view-in-github",
        "colab_type": "text"
      },
      "source": [
        "<a href=\"https://colab.research.google.com/github/shRiyas02/Cancer-Detection-ML-/blob/main/Shriya_S_Hypothesis_testing.ipynb\" target=\"_parent\"><img src=\"https://colab.research.google.com/assets/colab-badge.svg\" alt=\"Open In Colab\"/></a>"
      ]
    },
    {
      "cell_type": "markdown",
      "metadata": {
        "id": "dWDPBTo0BBJM"
      },
      "source": [
        "# Task : Formulate both null and alternative hypothesis for each and solve using the techniques"
      ]
    },
    {
      "cell_type": "markdown",
      "metadata": {
        "id": "yds_wj3NBBJP"
      },
      "source": [
        "# Example-1\n",
        "\n",
        "A pharmaceutical company conducts a clinical trial for a new drug and finds that out of 500 patients, 180 show signs of improvement in their condition. Test\n",
        "whether there is a significant difference in the proportion of patients showing improvement compared to the expected response rate of 30%."
      ]
    },
    {
      "cell_type": "markdown",
      "metadata": {
        "id": "vUcTDaqGBBJR"
      },
      "source": [
        "Solution:<br>\n",
        ">Null hypothesis, H0 : The proportion of patients showing improvement is 30% i.e. H0 : p=0.3 <br>\n",
        ">Alternate hypothesis, H1: The proportion of patients showing improvement is different than 30% i.e. H1: p != 0.3\n",
        "\n",
        "> The level of significance ($\\alpha$) is the threshold for rejecting the null hypothesis <br>\n",
        "> Let us assume $\\alpha$ = 0.05\n",
        "\n",
        "> perform a z-test for clinical trial proportion to determine if there is enough evidence to reject the null hypothesis <br>\n",
        "    1. calculate sample proportion<br>\n",
        "    2. calculate standard error<br>\n",
        "    3. perform z-test<br>\n"
      ]
    },
    {
      "cell_type": "code",
      "execution_count": null,
      "metadata": {
        "id": "NpwnMhIkBBJS",
        "outputId": "5f02a100-e58a-4d97-e914-762d6a3c0ee0"
      },
      "outputs": [
        {
          "name": "stdout",
          "output_type": "stream",
          "text": [
            "Results of proportions z-test:\n",
            "t-statistic: 2.7950849718747373\n",
            "p-value: 0.005188607552315565\n",
            "Reject null hypothesis.\n",
            "There is significant evidence to suggest the proportion of patients showing improvement is different from the expected rate.\n"
          ]
        }
      ],
      "source": [
        "from scipy import stats\n",
        "import scipy\n",
        "import numpy as np\n",
        "from statsmodels.stats.proportion import proportions_ztest\n",
        "\n",
        "total_patients = 500 # total number of patients\n",
        "improved_patients = 180 # number of patients showing improvement\n",
        "expected_rate = 0.30 # Expected response rate\n",
        "\n",
        "\n",
        "# Calculate sample proportion\n",
        "sample_proportion = improved_patients / total_patients\n",
        "\n",
        "# Perform z-test for proportions\n",
        "z_stat, p_value = proportions_ztest(improved_patients, total_patients, expected_rate)\n",
        "\n",
        "print(\"Results of proportions z-test:\")\n",
        "print(f\"t-statistic: {z_stat}\")\n",
        "print(f\"p-value: {p_value}\")\n",
        "\n",
        "# Compare p-value to significance level\n",
        "alpha = 0.05\n",
        "\n",
        "if p_value < alpha:\n",
        "    print(f\"Reject null hypothesis.\")\n",
        "    print(\"There is significant evidence to suggest the proportion of patients showing improvement is different from the expected rate.\")\n",
        "else:\n",
        "    print(f\"Fail to reject null hypothesis.\")\n",
        "    print(\"There is not enough evidence to suggest a significant difference in the proportion of patients showing improvement.\")\n"
      ]
    },
    {
      "cell_type": "markdown",
      "metadata": {
        "id": "2--fxbleBBJV"
      },
      "source": [
        "# Example-2\n",
        "\n",
        "A pharmaceutical company is developing a new drug claimed to reduce blood pressure by 10 mmHg. The company selects a sample of patients and administers the\n",
        "drug. After treatment, the mean reduction in blood pressure is found to be 9.2 mmHg with a standard deviation of 2.5 mmHg. Conduct a hypothesis test to\n",
        "determine if there is significant evidence to support the claim that the drug reduces blood pressure by 10 mmHg.\n",
        "\n",
        "    Given Data: 9.2, 9.5, 8.8, 10.1, 9.6, 8.9, 9.3, 9.7, 9.1, 9.4"
      ]
    },
    {
      "cell_type": "markdown",
      "metadata": {
        "id": "nDGp7YOeBBJV"
      },
      "source": [
        ">H0: drug reduces bp by 10 mmHg, H0: p = 10 <br>\n",
        ">H1: drug does not reduce bp by 10 mmHg, H1: p !=10"
      ]
    },
    {
      "cell_type": "code",
      "execution_count": null,
      "metadata": {
        "id": "IYKI4ryoBBJW",
        "outputId": "65c7f927-28d0-4de2-af3e-d9370ba4a8b6"
      },
      "outputs": [
        {
          "name": "stdout",
          "output_type": "stream",
          "text": [
            "Results of One-Sample t-test:\n",
            "t-statistic: -5.1986914663092785\n",
            "p-value: 0.0005650435402758814\n",
            "Reject null hypothesis.\n",
            "There is significant evidence to suggest the drug's reduction in blood pressure is different from 10 mmHg.\n"
          ]
        }
      ],
      "source": [
        "data = [9.2, 9.5, 8.8, 10.1, 9.6, 8.9, 9.3, 9.7, 9.1, 9.4]\n",
        "expected_mean = 10\n",
        "sample_mean = 9.2\n",
        "sample_std_dev = 2.5\n",
        "sample_size = len(data)\n",
        "\n",
        "t_statistic, p_value = stats.ttest_1samp(data, expected_mean)\n",
        "\n",
        "print(\"Results of One-Sample t-test:\")\n",
        "print(f\"t-statistic: {t_statistic}\")\n",
        "print(f\"p-value: {p_value}\")\n",
        "\n",
        "# Compare p-value to significance level (e.g., 0.05)\n",
        "\n",
        "alpha = 0.05\n",
        "\n",
        "\n",
        "if p_value < alpha:\n",
        "    print(\"Reject null hypothesis.\")\n",
        "    print(\"There is significant evidence to suggest the drug's reduction in blood pressure is different from 10 mmHg.\")\n",
        "else:\n",
        "    print(f\"Fail to reject null hypothesis.\")\n",
        "    print(\"There is not enough evidence to suggest a significant difference in the reduction of blood pressure.\")"
      ]
    },
    {
      "cell_type": "markdown",
      "metadata": {
        "id": "6VqILS4rBBJW"
      },
      "source": [
        "# Example - 3\n",
        "\n",
        "A biotechnology company is investigating the variability of gene expression levels under two different environmental conditions. They measure the expression levels of a particular gene in 20 samples for each condition and compute the sample variances. Test whether there is a significant difference in the variance of gene expression levels between the two conditions.\n",
        "\n",
        "Given data<br>\n",
        "Condition 1: 4.5, 5.1, 3.9, 4.8, 4.4, 5.2, 4.7, 4.6, 4.9, 5.0 # Expression levels condition 1<br>\n",
        "Condition 2: 3.8, 3.7, 4.0, 3.9, 4.1, 3.6, 4.0, 3.8, 4.2, 3.9 # Expression levels condition 2"
      ]
    },
    {
      "cell_type": "markdown",
      "metadata": {
        "id": "ynRLKVRYBBJX"
      },
      "source": [
        ">H0: no difference in variance of given conditions<br>\n",
        ">H1: difference in variance of given conditions"
      ]
    },
    {
      "cell_type": "code",
      "execution_count": null,
      "metadata": {
        "id": "WtvIa_sRBBJX",
        "outputId": "688cd497-e9ff-4f37-e872-bf2e9d6e2396"
      },
      "outputs": [
        {
          "name": "stdout",
          "output_type": "stream",
          "text": [
            "ANOVA F-Statistic: 36.25\n",
            "p-value: 1.0802859220147445e-05\n",
            "Reject null hypothesis: Variances are not equal among groups\n"
          ]
        }
      ],
      "source": [
        "condition_1 = [4.5, 5.1, 3.9, 4.8, 4.4, 5.2, 4.7, 4.6, 4.9, 5.0]\n",
        "condition_2 = [3.8, 3.7, 4.0, 3.9, 4.1, 3.6, 4.0, 3.8, 4.2, 3.9]\n",
        "\n",
        "# Performing ANOVA test\n",
        "F_statistic, p_value = stats.f_oneway(condition_1, condition_2)\n",
        "\n",
        "print(f\"ANOVA F-Statistic: {round(F_statistic,2)}\")\n",
        "print(f\"p-value: {p_value}\")\n",
        "\n",
        "# level of significance\n",
        "alpha = 0.05\n",
        "\n",
        "if p_value < alpha:\n",
        "    print(\"Reject null hypothesis: Variances are not equal among groups\")\n",
        "else:\n",
        "    print(\"Fail to reject null hypothesis: Variances are equal among groups\")"
      ]
    },
    {
      "cell_type": "markdown",
      "metadata": {
        "id": "heszEK5WBBJX"
      },
      "source": [
        "# Example-4\n",
        "\n",
        "A life sciences company is comparing two different protocols for cell culture growth rates. One protocol involves a newly formulated growth medium, while the\n",
        "other uses a standard medium. The company takes samples from two groups of cultures and measures the growth rates. Test whether there is a significant\n",
        "difference in the mean growth rates between these two protocols.\n",
        "Given data\n",
        "\n",
        "Group 1: 12, 13, 11, 15, 14, 10, 12, 14, 13, 12, 16, 13, 14, 15, 12 # Growth rates group 1<br>\n",
        "Group 2: 10, 11, 10, 12, 11, 9, 12, 11, 10, 10, 13, 11, 12, 13, 11 # Growth rates group 2"
      ]
    },
    {
      "cell_type": "markdown",
      "metadata": {
        "id": "gw81ifQJBBJY"
      },
      "source": [
        ">Null Hypothesis (H₀): No difference between mean growth rate of protocol-1 and protocol-2<br>\n",
        ">Alternative Hypothesis (H₁): There is significant difference between mean growth rate of protocol-1 and protocol-2"
      ]
    },
    {
      "cell_type": "code",
      "execution_count": null,
      "metadata": {
        "id": "x6eqg5iNBBJY",
        "outputId": "94322218-e081-499f-9448-07acda613c12"
      },
      "outputs": [
        {
          "name": "stdout",
          "output_type": "stream",
          "text": [
            "Results of Two-Sample t-Test:\n",
            "t-statistic: 3.877602290420335\n",
            "p-value: 0.0005828738127856237\n",
            "Reject the null hypothesis.\n",
            "There is a significant difference between the test scores of protocol-1(new media) and protocol-2(standard media).\n"
          ]
        }
      ],
      "source": [
        "group_1 = [12, 13, 11, 15, 14, 10, 12, 14, 13, 12, 16, 13, 14, 15, 12] # Growth rates group 1<br>\n",
        "group_2 = [10, 11, 10, 12, 11, 9, 12, 11, 10, 10, 13, 11, 12, 13, 11] # Growth rates group 2\n",
        "\n",
        "t_statistic, p_value = stats.ttest_ind(group_1, group_2)\n",
        "\n",
        "# Display the results\n",
        "print(\"Results of Two-Sample t-Test:\")\n",
        "print(f\"t-statistic: {t_statistic}\")\n",
        "print(f\"p-value: {p_value}\")\n",
        "\n",
        "alpha = 0.05\n",
        "if p_value < alpha:\n",
        "    print(\"Reject the null hypothesis.\")\n",
        "    print(\"There is a significant difference between the test scores of protocol-1(new media) and protocol-2(standard media).\")\n",
        "else:\n",
        "    print(\"Fail to reject the null hypothesis.\")\n",
        "    print(\"There is not enough evidence to conclude a significant difference in  protocol-1(new media) and protocol-2(standard media).\")"
      ]
    }
  ],
  "metadata": {
    "kernelspec": {
      "display_name": "Python 3 (ipykernel)",
      "language": "python",
      "name": "python3"
    },
    "language_info": {
      "codemirror_mode": {
        "name": "ipython",
        "version": 3
      },
      "file_extension": ".py",
      "mimetype": "text/x-python",
      "name": "python",
      "nbconvert_exporter": "python",
      "pygments_lexer": "ipython3",
      "version": "3.11.5"
    },
    "colab": {
      "provenance": [],
      "include_colab_link": true
    }
  },
  "nbformat": 4,
  "nbformat_minor": 0
}
