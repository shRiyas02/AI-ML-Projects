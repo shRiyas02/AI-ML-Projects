{
  "cells": [
    {
      "cell_type": "markdown",
      "metadata": {
        "id": "view-in-github",
        "colab_type": "text"
      },
      "source": [
        "<a href=\"https://colab.research.google.com/github/shRiyas02/Cancer-Detection-ML-/blob/main/Proteomics.ipynb\" target=\"_parent\"><img src=\"https://colab.research.google.com/assets/colab-badge.svg\" alt=\"Open In Colab\"/></a>"
      ]
    },
    {
      "cell_type": "code",
      "execution_count": null,
      "metadata": {
        "id": "0OaooLRK0xyL"
      },
      "outputs": [],
      "source": [
        "import pandas as pd"
      ]
    },
    {
      "cell_type": "code",
      "execution_count": null,
      "metadata": {
        "id": "Bf5akMoA0xyN"
      },
      "outputs": [],
      "source": [
        "seq1 = 'MADALRFVAWSCCLQLLFLLLGVQGYEVPKAKIDVFYPKGFEVSIPDEEGITLFAFHGKLNEEMEGLEAGTWARDIVKAKNGRWTFRDRITALKPGDTLYYWTYVIYNGLGYREDDGSFVVNGYSGNNASPHPPVVPVSTTPWTPPADPDIDIRLGCTTPKTEVNGAPTRCAGQLVFVDEFNAAKLDPNKWKAERRFSGQPDYEFNVYVDDAPETLCLANGHVVLSTNTMKKQFKKGSGESLDLGEKCTGQANTHDCVRNGRTLNDGLPPMVTAQFSSKDFSFKYGRVEVRAKMPRAQWVTPQIWLQPRRPIYGVDDYRSGQLRIAYTRPNGGNLDLYGAAVLFADEPLRSVKNCLKPGTGNNSEDWSDSFHNYTLEWTPRELRWLVDGKEWCVQGSAKGSFSETTAAGKSLPQAQKLEEGTGLAPFDQEFYLTFGLSVGGFNEYQHEIKPWNERAPQAQKAFWKEVKKIRDHWLDEGHMKIDYVKVYSL'\n",
        "seq2 = 'MPGLCIGILLLIGFGCTTAYKIPTPTVELLETGFSVSIPDEEGVKVVAFNVNRNRNFTSFINEGQYNVRLTEPQNGRWTTNFSSVPLRSQDVLYLWTSVQHQKAVYQDLAQPLPVCNLGGEYRPRGCSPGDDDFTDDNQLSTEDSALEPTAPSVCEPSESQVSPQIGVSICKGQLLFEETFDQLNESLWIHDVRLPLDSKDAEFVLYDGKAKVHDGNLVIEPLLWSSYRPDLSIANSRLDLSERCTGTHNRIKECILHSTGSGPSGIMPPIVTPRISTKETFAFQYGRIEIRAKLPKGDWIVPLLLLEPLTEWYGQSGYESGQLRVALARGNSVLRMPRGKLVDGRSLYGGPVLSTDAHQREDLWLSKRKISHFGDDFHTYSLDWSSNRLLFSVDGQVYGEMLNGFTELDENPRWKQGGPMAPFDKMFYISLGVSVGGFGDFVDHLRTATYEKPWANYHPQAKLQFHQAQDQWLPTWKQPALKIDYVRVFATDN'\n",
        "seq3 = 'MRWEFLPCLLLLISNNKIFGFKVPSINFEMLKDEGFEVSIPDEPGIQRVFYMFQIDDTCPALMDYITEAVNGSWVSKQKMSLQNNDKLQISMLVQFNEEIFEKSETRVIINTRLLTTKDSSSRGITFLTGEGECQAYLAPAQQAKRCKAAQTIVSNGRHTCQGELIFEDNFSEAQLNKTTWKHDIRQRMYHVEEELVAFDDAARNCFVKEGELHIVPTIATEVTDGSFKLGDRCTAVESPEQECNIAHGIFYSIKPPVFSAQIHTRNSFSFKFGKIVVRAKLPKGDWLFPYLMLQPVSTYAETHYAKQLRIAYARGNANLRTKQGDDISGNHLYGGGVVWHHGNAVQFLKDKISNSHYGDDFHNYTMIWQRDKITLMVDDEVYGELYDGLPFFNEKCFIIFGVTVGGFLNFDDSLLAKDVKPYKNREPRAALSFWQHRDAWAPTWGRHSAMVIDYVRVYAE'\n",
        "seq4 = 'MWCIVNLPNGTQQAVKWDPKANGQECLEKVCRAMNIICEMEYFGLEHWTPNQKESQTRQWINLRNRLSGDSGSSGSGIQLMLALRVKFWVPVHFILQESVRNLFYMQARRDLLEGRLTAPDWSGAAKLAALLCQADGLRFNESSLKADCPMRMRRELAQQQQQQQQQAQQHRLEQQRKEKEHVLSFKKRRLSKQKSMEHIEVCTLPAASTTSCSLQPSPSASASASASASASASASTSACSQTHSNSSSSSPSNSSSQTGLDERLASNPLRVYEEYFMQPSCEGEPPADYLRQIAVEHGKLAKLQMSLKTAKYWLLKSIQDLEGYGEELFSGVTTNESATRCDIAVGAHGITVCRGGEKQSIPFGAIAAAKSLRRTFKLEYVDDHNDRKELEIKLPKQPIAAGLYRSITERHAFYVCDKVRGVVTNQFTRDLKGTIASMFMENTELGKRYVFDIQHTCREVHDQARRTLHERGGDLVAEGAEGCSAVAGGLGASAVGEPGVSPWAMALTTGAGGSMAGKIDLAIREKEAREAAIERCVDTRISEAMQCKICMDRAINTVFNPCCHVIACAQCAARCSNCPNCRVKITSVVKIYLPPELRTSQTGSGATTTSSSSIMGDGQVEEQLLQQQLDEISAAPASLEAGADAGVGVGGMAVGAGAGAGATGPGGQPKVTTAAXNWLCSLLFRLMEWVCVPIV'\n",
        "seq5 = 'RFVAWSCCLQLLFLLLGVQGYEVPKAKIDVFYPKGFEVSIPDEEGITLFAFHGKLNEEMEGLEAGTWARDIVKAKNGRWTFRDRITALKPGDTLYYWTYVIYNGLGYREDDGSFVVNGYSGNNASPHPPVVPVSTTPWTPPADPDIDIRLGCTTPKTEVNGAPTRCAGQLVFVDEFNAAKLDPNKWKAERRFSGQPDYEFNVYVDDAPETLCLANGHVVLSTNTMKKQFKKGSGESLDLGEKCTGQANTHDCVRNGRTLNDGLPPMVTAQFSSKDFSFKYGRVEVRAKMPRAQWVTPQIWLQPRRPIYGVDDYRSGQLRIAYTRPNGGNLDLYGAAVLFADEPLRSVKNCLKPGTGNNSEDWSDSFHNYTLEWTPRELRWLVDGKEWCVQGSAKGSFSETTAAGKSLPQAQKLEEGTGLAPFDQEFYLTFGLSVGGFNEYQHEIKPWNERAPQAQKAFWKEVKKIRDHWLDEGHMKIDYVKVYSL'"
      ]
    },
    {
      "cell_type": "code",
      "execution_count": null,
      "metadata": {
        "id": "IK9ZtPo40xyP"
      },
      "outputs": [],
      "source": [
        "seq = [seq1, seq2, seq3, seq4, seq5]"
      ]
    },
    {
      "cell_type": "code",
      "execution_count": null,
      "metadata": {
        "id": "mp1DohrS0xyP"
      },
      "outputs": [],
      "source": [
        "amino_acid_dict = {\n",
        "    \"A\": \"Alanine\",\n",
        "    \"R\": \"Arginine\",\n",
        "    \"N\": \"Asparagine\",\n",
        "    \"D\": \"Aspartic acid\",\n",
        "    \"C\": \"Cysteine\",\n",
        "    \"E\": \"Glutamic acid\",\n",
        "    \"Q\": \"Glutamine\",\n",
        "    \"G\": \"Glycine\",\n",
        "    \"H\": \"Histidine\",\n",
        "    \"I\": \"Isoleucine\",\n",
        "    \"L\": \"Leucine\",\n",
        "    \"K\": \"Lysine\",\n",
        "    \"M\": \"Methionine\",\n",
        "    \"F\": \"Phenylalanine\",\n",
        "    \"P\": \"Proline\",\n",
        "    \"S\": \"Serine\",\n",
        "    \"T\": \"Threonine\",\n",
        "    \"W\": \"Tryptophan\",\n",
        "    \"Y\": \"Tyrosine\",\n",
        "    \"V\": \"Valine\"\n",
        "}"
      ]
    },
    {
      "cell_type": "code",
      "execution_count": null,
      "metadata": {
        "id": "VeyJpyI60xyQ"
      },
      "outputs": [],
      "source": [
        "amino_acid_list = list(amino_acid_dict.keys())"
      ]
    },
    {
      "cell_type": "code",
      "execution_count": null,
      "metadata": {
        "id": "kSvyxXl90xyQ"
      },
      "outputs": [],
      "source": [
        "polar = ['R', 'N', 'D', 'C', 'Q', 'E', 'G', 'H', 'K', 'S', 'T', 'Y']\n",
        "nonPolar = ['A', 'I', 'L', 'M', 'F', 'P', 'W', 'V']"
      ]
    },
    {
      "cell_type": "code",
      "execution_count": null,
      "metadata": {
        "id": "4SQ16nQp0xyR"
      },
      "outputs": [],
      "source": [
        "acid_freq = []\n",
        "polarPer = []\n",
        "nonPolarPer = []\n",
        "for acid_seq in seq:\n",
        "    freq = []\n",
        "    pSum = 0\n",
        "    npSum = 0\n",
        "    for acid in amino_acid_list:\n",
        "        freq.append(acid_seq.count(acid))\n",
        "        if acid in polar:\n",
        "            pSum += (acid_seq.count(acid))\n",
        "        elif acid in nonPolar:\n",
        "            npSum += (acid_seq.count(acid))\n",
        "    acid_freq.append(freq)\n",
        "    polarPer.append(round(pSum*100/(pSum+npSum),2))\n",
        "    nonPolarPer.append(round(npSum*100/(pSum+npSum),2))"
      ]
    },
    {
      "cell_type": "markdown",
      "metadata": {
        "id": "-dJBjQMj0xyR"
      },
      "source": [
        "1. Compute the amino acid frequencies in each sequence"
      ]
    },
    {
      "cell_type": "code",
      "execution_count": null,
      "metadata": {
        "id": "uvzGc7pR0xyT"
      },
      "outputs": [],
      "source": [
        "df = pd.DataFrame()\n",
        "df['amino_acid'] = amino_acid_list\n",
        "df['seq1'] = acid_freq[0]\n",
        "df['seq2'] = acid_freq[1]\n",
        "df['seq3'] = acid_freq[2]\n",
        "df['seq4'] = acid_freq[3]\n",
        "df['seq5'] = acid_freq[4]"
      ]
    },
    {
      "cell_type": "code",
      "execution_count": null,
      "metadata": {
        "id": "zF1pVwCB0xyU",
        "outputId": "52e09f40-7712-4024-ceed-8c657eb1ee70"
      },
      "outputs": [
        {
          "data": {
            "text/html": [
              "<div>\n",
              "<style scoped>\n",
              "    .dataframe tbody tr th:only-of-type {\n",
              "        vertical-align: middle;\n",
              "    }\n",
              "\n",
              "    .dataframe tbody tr th {\n",
              "        vertical-align: top;\n",
              "    }\n",
              "\n",
              "    .dataframe thead th {\n",
              "        text-align: right;\n",
              "    }\n",
              "</style>\n",
              "<table border=\"1\" class=\"dataframe\">\n",
              "  <thead>\n",
              "    <tr style=\"text-align: right;\">\n",
              "      <th></th>\n",
              "      <th>amino_acid</th>\n",
              "      <th>seq1</th>\n",
              "      <th>seq2</th>\n",
              "      <th>seq3</th>\n",
              "      <th>seq4</th>\n",
              "      <th>seq5</th>\n",
              "    </tr>\n",
              "  </thead>\n",
              "  <tbody>\n",
              "    <tr>\n",
              "      <th>0</th>\n",
              "      <td>A</td>\n",
              "      <td>34</td>\n",
              "      <td>21</td>\n",
              "      <td>30</td>\n",
              "      <td>76</td>\n",
              "      <td>32</td>\n",
              "    </tr>\n",
              "    <tr>\n",
              "      <th>1</th>\n",
              "      <td>R</td>\n",
              "      <td>25</td>\n",
              "      <td>26</td>\n",
              "      <td>22</td>\n",
              "      <td>43</td>\n",
              "      <td>25</td>\n",
              "    </tr>\n",
              "    <tr>\n",
              "      <th>2</th>\n",
              "      <td>N</td>\n",
              "      <td>23</td>\n",
              "      <td>20</td>\n",
              "      <td>23</td>\n",
              "      <td>21</td>\n",
              "      <td>23</td>\n",
              "    </tr>\n",
              "    <tr>\n",
              "      <th>3</th>\n",
              "      <td>D</td>\n",
              "      <td>31</td>\n",
              "      <td>32</td>\n",
              "      <td>28</td>\n",
              "      <td>24</td>\n",
              "      <td>30</td>\n",
              "    </tr>\n",
              "    <tr>\n",
              "      <th>4</th>\n",
              "      <td>C</td>\n",
              "      <td>9</td>\n",
              "      <td>8</td>\n",
              "      <td>9</td>\n",
              "      <td>27</td>\n",
              "      <td>9</td>\n",
              "    </tr>\n",
              "    <tr>\n",
              "      <th>5</th>\n",
              "      <td>E</td>\n",
              "      <td>31</td>\n",
              "      <td>28</td>\n",
              "      <td>30</td>\n",
              "      <td>48</td>\n",
              "      <td>31</td>\n",
              "    </tr>\n",
              "    <tr>\n",
              "      <th>6</th>\n",
              "      <td>Q</td>\n",
              "      <td>18</td>\n",
              "      <td>24</td>\n",
              "      <td>21</td>\n",
              "      <td>45</td>\n",
              "      <td>18</td>\n",
              "    </tr>\n",
              "    <tr>\n",
              "      <th>7</th>\n",
              "      <td>G</td>\n",
              "      <td>43</td>\n",
              "      <td>40</td>\n",
              "      <td>29</td>\n",
              "      <td>54</td>\n",
              "      <td>43</td>\n",
              "    </tr>\n",
              "    <tr>\n",
              "      <th>8</th>\n",
              "      <td>H</td>\n",
              "      <td>8</td>\n",
              "      <td>11</td>\n",
              "      <td>14</td>\n",
              "      <td>14</td>\n",
              "      <td>8</td>\n",
              "    </tr>\n",
              "    <tr>\n",
              "      <th>9</th>\n",
              "      <td>I</td>\n",
              "      <td>14</td>\n",
              "      <td>22</td>\n",
              "      <td>30</td>\n",
              "      <td>30</td>\n",
              "      <td>14</td>\n",
              "    </tr>\n",
              "    <tr>\n",
              "      <th>10</th>\n",
              "      <td>L</td>\n",
              "      <td>40</td>\n",
              "      <td>53</td>\n",
              "      <td>34</td>\n",
              "      <td>57</td>\n",
              "      <td>39</td>\n",
              "    </tr>\n",
              "    <tr>\n",
              "      <th>11</th>\n",
              "      <td>K</td>\n",
              "      <td>32</td>\n",
              "      <td>20</td>\n",
              "      <td>28</td>\n",
              "      <td>33</td>\n",
              "      <td>32</td>\n",
              "    </tr>\n",
              "    <tr>\n",
              "      <th>12</th>\n",
              "      <td>M</td>\n",
              "      <td>6</td>\n",
              "      <td>6</td>\n",
              "      <td>11</td>\n",
              "      <td>19</td>\n",
              "      <td>5</td>\n",
              "    </tr>\n",
              "    <tr>\n",
              "      <th>13</th>\n",
              "      <td>F</td>\n",
              "      <td>24</td>\n",
              "      <td>22</td>\n",
              "      <td>30</td>\n",
              "      <td>16</td>\n",
              "      <td>24</td>\n",
              "    </tr>\n",
              "    <tr>\n",
              "      <th>14</th>\n",
              "      <td>P</td>\n",
              "      <td>31</td>\n",
              "      <td>33</td>\n",
              "      <td>17</td>\n",
              "      <td>27</td>\n",
              "      <td>31</td>\n",
              "    </tr>\n",
              "    <tr>\n",
              "      <th>15</th>\n",
              "      <td>S</td>\n",
              "      <td>24</td>\n",
              "      <td>39</td>\n",
              "      <td>26</td>\n",
              "      <td>64</td>\n",
              "      <td>24</td>\n",
              "    </tr>\n",
              "    <tr>\n",
              "      <th>16</th>\n",
              "      <td>T</td>\n",
              "      <td>29</td>\n",
              "      <td>28</td>\n",
              "      <td>24</td>\n",
              "      <td>36</td>\n",
              "      <td>29</td>\n",
              "    </tr>\n",
              "    <tr>\n",
              "      <th>17</th>\n",
              "      <td>W</td>\n",
              "      <td>15</td>\n",
              "      <td>12</td>\n",
              "      <td>9</td>\n",
              "      <td>10</td>\n",
              "      <td>15</td>\n",
              "    </tr>\n",
              "    <tr>\n",
              "      <th>18</th>\n",
              "      <td>Y</td>\n",
              "      <td>20</td>\n",
              "      <td>17</td>\n",
              "      <td>17</td>\n",
              "      <td>12</td>\n",
              "      <td>20</td>\n",
              "    </tr>\n",
              "    <tr>\n",
              "      <th>19</th>\n",
              "      <td>V</td>\n",
              "      <td>33</td>\n",
              "      <td>32</td>\n",
              "      <td>29</td>\n",
              "      <td>39</td>\n",
              "      <td>33</td>\n",
              "    </tr>\n",
              "  </tbody>\n",
              "</table>\n",
              "</div>"
            ],
            "text/plain": [
              "   amino_acid  seq1  seq2  seq3  seq4  seq5\n",
              "0           A    34    21    30    76    32\n",
              "1           R    25    26    22    43    25\n",
              "2           N    23    20    23    21    23\n",
              "3           D    31    32    28    24    30\n",
              "4           C     9     8     9    27     9\n",
              "5           E    31    28    30    48    31\n",
              "6           Q    18    24    21    45    18\n",
              "7           G    43    40    29    54    43\n",
              "8           H     8    11    14    14     8\n",
              "9           I    14    22    30    30    14\n",
              "10          L    40    53    34    57    39\n",
              "11          K    32    20    28    33    32\n",
              "12          M     6     6    11    19     5\n",
              "13          F    24    22    30    16    24\n",
              "14          P    31    33    17    27    31\n",
              "15          S    24    39    26    64    24\n",
              "16          T    29    28    24    36    29\n",
              "17          W    15    12     9    10    15\n",
              "18          Y    20    17    17    12    20\n",
              "19          V    33    32    29    39    33"
            ]
          },
          "execution_count": 58,
          "metadata": {},
          "output_type": "execute_result"
        }
      ],
      "source": [
        "df"
      ]
    },
    {
      "cell_type": "markdown",
      "metadata": {
        "id": "hIbsd6_D0xyW"
      },
      "source": [
        "2. Using the amino acid classification above (Table 1), create the following table: <br>\n",
        "Sequence | %Polar | %Nonpolar"
      ]
    },
    {
      "cell_type": "code",
      "execution_count": null,
      "metadata": {
        "id": "Qp9qcr6a0xyW"
      },
      "outputs": [],
      "source": [
        "table = pd.DataFrame()\n",
        "table['sequence'] = [1,2,3,4,5]\n",
        "table['%polar'] = polarPer\n",
        "table['%non-polar'] = nonPolarPer"
      ]
    },
    {
      "cell_type": "code",
      "execution_count": null,
      "metadata": {
        "id": "46rxpaHG0xyX",
        "outputId": "7f3def3b-28d6-4c9a-e855-21aeddab0640"
      },
      "outputs": [
        {
          "data": {
            "text/html": [
              "<div>\n",
              "<style scoped>\n",
              "    .dataframe tbody tr th:only-of-type {\n",
              "        vertical-align: middle;\n",
              "    }\n",
              "\n",
              "    .dataframe tbody tr th {\n",
              "        vertical-align: top;\n",
              "    }\n",
              "\n",
              "    .dataframe thead th {\n",
              "        text-align: right;\n",
              "    }\n",
              "</style>\n",
              "<table border=\"1\" class=\"dataframe\">\n",
              "  <thead>\n",
              "    <tr style=\"text-align: right;\">\n",
              "      <th></th>\n",
              "      <th>sequence</th>\n",
              "      <th>%polar</th>\n",
              "      <th>%non-polar</th>\n",
              "    </tr>\n",
              "  </thead>\n",
              "  <tbody>\n",
              "    <tr>\n",
              "      <th>0</th>\n",
              "      <td>1</td>\n",
              "      <td>59.80</td>\n",
              "      <td>40.20</td>\n",
              "    </tr>\n",
              "    <tr>\n",
              "      <th>1</th>\n",
              "      <td>2</td>\n",
              "      <td>59.31</td>\n",
              "      <td>40.69</td>\n",
              "    </tr>\n",
              "    <tr>\n",
              "      <th>2</th>\n",
              "      <td>3</td>\n",
              "      <td>58.79</td>\n",
              "      <td>41.21</td>\n",
              "    </tr>\n",
              "    <tr>\n",
              "      <th>3</th>\n",
              "      <td>4</td>\n",
              "      <td>60.58</td>\n",
              "      <td>39.42</td>\n",
              "    </tr>\n",
              "    <tr>\n",
              "      <th>4</th>\n",
              "      <td>5</td>\n",
              "      <td>60.21</td>\n",
              "      <td>39.79</td>\n",
              "    </tr>\n",
              "  </tbody>\n",
              "</table>\n",
              "</div>"
            ],
            "text/plain": [
              "   sequence  %polar  %non-polar\n",
              "0         1   59.80       40.20\n",
              "1         2   59.31       40.69\n",
              "2         3   58.79       41.21\n",
              "3         4   60.58       39.42\n",
              "4         5   60.21       39.79"
            ]
          },
          "execution_count": 60,
          "metadata": {},
          "output_type": "execute_result"
        }
      ],
      "source": [
        "table"
      ]
    },
    {
      "cell_type": "markdown",
      "metadata": {
        "id": "8g5voMo60xyY"
      },
      "source": [
        "3. Find <br>\n",
        "    a. The number of polar and nonpolar patches.<br>\n",
        "    b. the largest polar and nonpolar patches (contiguous sequence) in each sequence.\n"
      ]
    },
    {
      "cell_type": "code",
      "execution_count": null,
      "metadata": {
        "id": "ZIKzIwmq0xyY"
      },
      "outputs": [],
      "source": [
        "def is_polar(aa):\n",
        "    polar_aa = 'RKDENQHSTY'\n",
        "    return aa.upper() in polar_aa\n",
        "\n",
        "def count_patches(sequence):\n",
        "    patches = {'polar': 0, 'nonpolar': 0}\n",
        "    max_lengths = {'polar': 0, 'nonpolar': 0}\n",
        "    current_patch_type = None\n",
        "    patch_length = 0\n",
        "\n",
        "    for aa in sequence:\n",
        "        if is_polar(aa):\n",
        "            if current_patch_type != 'polar':\n",
        "                current_patch_type = 'polar'\n",
        "                patches['polar'] += 1\n",
        "                patch_length = 1\n",
        "            else:\n",
        "                patch_length += 1\n",
        "        else:\n",
        "            if current_patch_type != 'nonpolar':\n",
        "                current_patch_type = 'nonpolar'\n",
        "                patches['nonpolar'] += 1\n",
        "                patch_length = 1\n",
        "            else:\n",
        "                patch_length += 1\n",
        "\n",
        "        # Update maximum patch length\n",
        "        if patch_length > max_lengths[current_patch_type]:\n",
        "            max_lengths[current_patch_type] = patch_length\n",
        "\n",
        "    return patches, max_lengths\n",
        "\n"
      ]
    },
    {
      "cell_type": "code",
      "execution_count": null,
      "metadata": {
        "id": "UF-qnc3_0xyY"
      },
      "outputs": [],
      "source": [
        "# Example amino acid sequence\n",
        "patch = []\n",
        "maxLength = []\n",
        "for acid_seq in seq:\n",
        "    patch_counts, max_patch_lengths = count_patches(acid_seq)\n",
        "    patch.append(patch_counts)\n",
        "    maxLength.append(max_patch_lengths)"
      ]
    },
    {
      "cell_type": "code",
      "execution_count": null,
      "metadata": {
        "id": "_huhZIi_0xyY"
      },
      "outputs": [],
      "source": [
        "df1 = pd.DataFrame(patch)\n",
        "df2 = pd.DataFrame(maxLength)\n",
        "df = pd.concat([df1,df2], axis=1)\n",
        "df['sequence'] = [1,2,3,4,5]\n"
      ]
    },
    {
      "cell_type": "code",
      "execution_count": null,
      "metadata": {
        "id": "VM1zZwH_0xyZ"
      },
      "outputs": [],
      "source": [
        "df.columns= ['num_polar_patch',\t'num_nonpolar_patch', 'max_polar_len',\t 'max_nonpolar_len', 'sequence']"
      ]
    },
    {
      "cell_type": "code",
      "execution_count": null,
      "metadata": {
        "id": "8wCz3MvC0xyZ"
      },
      "outputs": [],
      "source": [
        "df = df[[ 'sequence','num_polar_patch',\t'num_nonpolar_patch', 'max_polar_len',\t 'max_nonpolar_len']]"
      ]
    },
    {
      "cell_type": "code",
      "execution_count": null,
      "metadata": {
        "id": "7EMTm5eL0xyZ",
        "outputId": "bcf0c121-da6d-463c-c582-0c806912b00f"
      },
      "outputs": [
        {
          "data": {
            "text/html": [
              "<div>\n",
              "<style scoped>\n",
              "    .dataframe tbody tr th:only-of-type {\n",
              "        vertical-align: middle;\n",
              "    }\n",
              "\n",
              "    .dataframe tbody tr th {\n",
              "        vertical-align: top;\n",
              "    }\n",
              "\n",
              "    .dataframe thead th {\n",
              "        text-align: right;\n",
              "    }\n",
              "</style>\n",
              "<table border=\"1\" class=\"dataframe\">\n",
              "  <thead>\n",
              "    <tr style=\"text-align: right;\">\n",
              "      <th></th>\n",
              "      <th>sequence</th>\n",
              "      <th>num_polar_patch</th>\n",
              "      <th>num_nonpolar_patch</th>\n",
              "      <th>max_polar_len</th>\n",
              "      <th>max_nonpolar_len</th>\n",
              "    </tr>\n",
              "  </thead>\n",
              "  <tbody>\n",
              "    <tr>\n",
              "      <th>0</th>\n",
              "      <td>1</td>\n",
              "      <td>146</td>\n",
              "      <td>147</td>\n",
              "      <td>6</td>\n",
              "      <td>8</td>\n",
              "    </tr>\n",
              "    <tr>\n",
              "      <th>1</th>\n",
              "      <td>2</td>\n",
              "      <td>132</td>\n",
              "      <td>132</td>\n",
              "      <td>5</td>\n",
              "      <td>16</td>\n",
              "    </tr>\n",
              "    <tr>\n",
              "      <th>2</th>\n",
              "      <td>3</td>\n",
              "      <td>123</td>\n",
              "      <td>123</td>\n",
              "      <td>8</td>\n",
              "      <td>9</td>\n",
              "    </tr>\n",
              "    <tr>\n",
              "      <th>3</th>\n",
              "      <td>4</td>\n",
              "      <td>177</td>\n",
              "      <td>178</td>\n",
              "      <td>11</td>\n",
              "      <td>18</td>\n",
              "    </tr>\n",
              "    <tr>\n",
              "      <th>4</th>\n",
              "      <td>5</td>\n",
              "      <td>145</td>\n",
              "      <td>145</td>\n",
              "      <td>6</td>\n",
              "      <td>8</td>\n",
              "    </tr>\n",
              "  </tbody>\n",
              "</table>\n",
              "</div>"
            ],
            "text/plain": [
              "   sequence  num_polar_patch  num_nonpolar_patch  max_polar_len  \\\n",
              "0         1              146                 147              6   \n",
              "1         2              132                 132              5   \n",
              "2         3              123                 123              8   \n",
              "3         4              177                 178             11   \n",
              "4         5              145                 145              6   \n",
              "\n",
              "   max_nonpolar_len  \n",
              "0                 8  \n",
              "1                16  \n",
              "2                 9  \n",
              "3                18  \n",
              "4                 8  "
            ]
          },
          "execution_count": 115,
          "metadata": {},
          "output_type": "execute_result"
        }
      ],
      "source": [
        "df"
      ]
    },
    {
      "cell_type": "code",
      "execution_count": null,
      "metadata": {
        "id": "bGDv5USi0xyZ"
      },
      "outputs": [],
      "source": []
    }
  ],
  "metadata": {
    "kernelspec": {
      "display_name": "Python 3",
      "language": "python",
      "name": "python3"
    },
    "language_info": {
      "codemirror_mode": {
        "name": "ipython",
        "version": 3
      },
      "file_extension": ".py",
      "mimetype": "text/x-python",
      "name": "python",
      "nbconvert_exporter": "python",
      "pygments_lexer": "ipython3",
      "version": "3.10.0"
    },
    "colab": {
      "provenance": [],
      "include_colab_link": true
    }
  },
  "nbformat": 4,
  "nbformat_minor": 0
}